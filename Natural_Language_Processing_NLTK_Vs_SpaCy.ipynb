{
  "nbformat": 4,
  "nbformat_minor": 0,
  "metadata": {
    "colab": {
      "name": "Natural Language Processing: NLTK Vs SpaCy.ipynb",
      "provenance": [],
      "authorship_tag": "ABX9TyM2SeRyB/RNA7eG1Im5Ko87",
      "include_colab_link": true
    },
    "kernelspec": {
      "name": "python3",
      "display_name": "Python 3"
    }
  },
  "cells": [
    {
      "cell_type": "markdown",
      "metadata": {
        "id": "view-in-github",
        "colab_type": "text"
      },
      "source": [
        "<a href=\"https://colab.research.google.com/github/Philippe-AD/Jupyter/blob/master/Natural_Language_Processing_NLTK_Vs_SpaCy.ipynb\" target=\"_parent\"><img src=\"https://colab.research.google.com/assets/colab-badge.svg\" alt=\"Open In Colab\"/></a>"
      ]
    },
    {
      "cell_type": "code",
      "metadata": {
        "id": "LYcSE1olLkaH",
        "colab_type": "code",
        "colab": {
          "base_uri": "https://localhost:8080/",
          "height": 218
        },
        "outputId": "d05bfec5-426a-42a6-f26c-fb6ab24a8403"
      },
      "source": [
        "import nltk\n",
        "nltk.download('punkt')\n",
        "nltk.download('averaged_perceptron_tagger')\n",
        "nltk.download('maxent_ne_chunker')\n",
        "nltk.download('words')"
      ],
      "execution_count": 14,
      "outputs": [
        {
          "output_type": "stream",
          "text": [
            "[nltk_data] Downloading package punkt to /root/nltk_data...\n",
            "[nltk_data]   Package punkt is already up-to-date!\n",
            "[nltk_data] Downloading package averaged_perceptron_tagger to\n",
            "[nltk_data]     /root/nltk_data...\n",
            "[nltk_data]   Package averaged_perceptron_tagger is already up-to-\n",
            "[nltk_data]       date!\n",
            "[nltk_data] Downloading package maxent_ne_chunker to\n",
            "[nltk_data]     /root/nltk_data...\n",
            "[nltk_data]   Package maxent_ne_chunker is already up-to-date!\n",
            "[nltk_data] Downloading package words to /root/nltk_data...\n",
            "[nltk_data]   Unzipping corpora/words.zip.\n"
          ],
          "name": "stdout"
        },
        {
          "output_type": "execute_result",
          "data": {
            "text/plain": [
              "True"
            ]
          },
          "metadata": {
            "tags": []
          },
          "execution_count": 14
        }
      ]
    },
    {
      "cell_type": "code",
      "metadata": {
        "id": "9poCY790LD15",
        "colab_type": "code",
        "colab": {}
      },
      "source": [
        "import nltk\n",
        "\n",
        "str = \"Pythons live near the equator, in Asia and Africa, where it is hot and wet and their huge bodies can stay warm.  They make their homes in caves or in trees and have become used to living in cities and towns since people have been moving in on their territory.\"\n",
        "\n",
        "nltk.word_tokenize(str)\n"
      ],
      "execution_count": null,
      "outputs": []
    },
    {
      "cell_type": "code",
      "metadata": {
        "id": "6qtfQ8QEL_Bt",
        "colab_type": "code",
        "colab": {}
      },
      "source": [
        "import nltk\n",
        "\n",
        "str = \"Pythons live near the equator, in Asia and Africa, where it is hot and wet and their huge bodies can stay warm.  They make their homes in caves or in trees and have become used to living in cities and towns since people have been moving in on their territory.\"\n",
        "\n",
        "tokens = nltk.word_tokenize(str)\n",
        "nltk.pos_tag(tokens)"
      ],
      "execution_count": null,
      "outputs": []
    },
    {
      "cell_type": "code",
      "metadata": {
        "id": "I4p3BZXuM1GY",
        "colab_type": "code",
        "colab": {
          "base_uri": "https://localhost:8080/",
          "height": 941
        },
        "outputId": "c690e841-793f-4603-e4d5-6ec3ae43f16f"
      },
      "source": [
        "import nltk\n",
        "\n",
        "str = \"Pythons live near the equator, in Asia and Africa, where it is hot and wet and their huge bodies can stay warm.  They make their homes in caves or in trees and have become used to living in cities and towns since people have been moving in on their territory.\"\n",
        "\n",
        "tokens = nltk.word_tokenize(str)\n",
        "pos_tags = nltk.pos_tag(tokens)\n",
        "\n",
        "print(nltk.ne_chunk(pos_tags, binary=True))"
      ],
      "execution_count": 15,
      "outputs": [
        {
          "output_type": "stream",
          "text": [
            "(S\n",
            "  Pythons/NNS\n",
            "  live/VBP\n",
            "  near/IN\n",
            "  the/DT\n",
            "  equator/NN\n",
            "  ,/,\n",
            "  in/IN\n",
            "  (NE Asia/NNP)\n",
            "  and/CC\n",
            "  (NE Africa/NNP)\n",
            "  ,/,\n",
            "  where/WRB\n",
            "  it/PRP\n",
            "  is/VBZ\n",
            "  hot/JJ\n",
            "  and/CC\n",
            "  wet/JJ\n",
            "  and/CC\n",
            "  their/PRP$\n",
            "  huge/JJ\n",
            "  bodies/NNS\n",
            "  can/MD\n",
            "  stay/VB\n",
            "  warm/JJ\n",
            "  ./.\n",
            "  They/PRP\n",
            "  make/VBP\n",
            "  their/PRP$\n",
            "  homes/NNS\n",
            "  in/IN\n",
            "  caves/NNS\n",
            "  or/CC\n",
            "  in/IN\n",
            "  trees/NNS\n",
            "  and/CC\n",
            "  have/VBP\n",
            "  become/VBN\n",
            "  used/VBN\n",
            "  to/TO\n",
            "  living/VBG\n",
            "  in/IN\n",
            "  cities/NNS\n",
            "  and/CC\n",
            "  towns/NNS\n",
            "  since/IN\n",
            "  people/NNS\n",
            "  have/VBP\n",
            "  been/VBN\n",
            "  moving/VBG\n",
            "  in/IN\n",
            "  on/IN\n",
            "  their/PRP$\n",
            "  territory/NN\n",
            "  ./.)\n"
          ],
          "name": "stdout"
        }
      ]
    },
    {
      "cell_type": "code",
      "metadata": {
        "id": "kbR8iDO6R3nu",
        "colab_type": "code",
        "colab": {
          "base_uri": "https://localhost:8080/",
          "height": 34
        },
        "outputId": "202f99fc-aa17-4ba3-c686-d302f91e7fc8"
      },
      "source": [
        "import nltk\n",
        "from nltk.tokenize import PunktSentenceTokenizer\n",
        "text='I am a human being, capable of doing terrible things'\n",
        "sentences=nltk.sent_tokenize(text)\n",
        "for sent in sentences:\n",
        "   print(nltk.pos_tag(nltk.word_tokenize(sent)))"
      ],
      "execution_count": 17,
      "outputs": [
        {
          "output_type": "stream",
          "text": [
            "[('I', 'PRP'), ('am', 'VBP'), ('a', 'DT'), ('human', 'JJ'), ('being', 'VBG'), (',', ','), ('capable', 'JJ'), ('of', 'IN'), ('doing', 'VBG'), ('terrible', 'JJ'), ('things', 'NNS')]\n"
          ],
          "name": "stdout"
        }
      ]
    },
    {
      "cell_type": "code",
      "metadata": {
        "id": "3GKr9OQBUUnM",
        "colab_type": "code",
        "colab": {
          "base_uri": "https://localhost:8080/",
          "height": 34
        },
        "outputId": "5934694c-4429-41be-a74f-99605ded4271"
      },
      "source": [
        "text='I\teat\tbreakfast at 8 in the morning.'\n",
        "sentences=nltk.sent_tokenize(text)\n",
        "for sent in sentences:\n",
        "   print(nltk.pos_tag(nltk.word_tokenize(sent)))"
      ],
      "execution_count": 19,
      "outputs": [
        {
          "output_type": "stream",
          "text": [
            "[('I', 'PRP'), ('eat', 'VBP'), ('breakfast', 'NN'), ('at', 'IN'), ('8', 'CD'), ('in', 'IN'), ('the', 'DT'), ('morning', 'NN'), ('.', '.')]\n"
          ],
          "name": "stdout"
        }
      ]
    },
    {
      "cell_type": "code",
      "metadata": {
        "id": "akCxdz6nU-Xg",
        "colab_type": "code",
        "colab": {
          "base_uri": "https://localhost:8080/",
          "height": 34
        },
        "outputId": "9b2ddc74-a243-463f-8418-9d2e9ea806a7"
      },
      "source": [
        "text='mouse mice'\n",
        "sentences=nltk.sent_tokenize(text)\n",
        "for sent in sentences:\n",
        "   print(nltk.pos_tag(nltk.word_tokenize(sent)))\n",
        "\n",
        "\n"
      ],
      "execution_count": 21,
      "outputs": [
        {
          "output_type": "stream",
          "text": [
            "[('mouse', 'NN'), ('mice', 'NN')]\n"
          ],
          "name": "stdout"
        }
      ]
    },
    {
      "cell_type": "markdown",
      "metadata": {
        "id": "CXyaF9vxR2Ux",
        "colab_type": "text"
      },
      "source": [
        "\n",
        "\n",
        "---\n",
        "\n"
      ]
    },
    {
      "cell_type": "code",
      "metadata": {
        "id": "t1vmpiRuLxdw",
        "colab_type": "code",
        "colab": {}
      },
      "source": [
        "from spacy.tokenizer import Tokenizer\n",
        "from spacy.lang.en import English\n",
        "\n",
        "str = \"Pythons live near the equator, in Asia and Africa, where it is hot and wet and their huge bodies can stay warm.  They make their homes in caves or in trees and have become used to living in cities and towns since people have been moving in on their territory.\"\n",
        "nlp = English()\n",
        "\n",
        "# Create a blank Tokenizer with just the English vocab\n",
        "tokenizer = Tokenizer(nlp.vocab)\n",
        "tokens = tokenizer(str)\n",
        "\n",
        "for token in tokens:\n",
        "    print(token)"
      ],
      "execution_count": null,
      "outputs": []
    },
    {
      "cell_type": "code",
      "metadata": {
        "id": "XTTkF7Q9MNRC",
        "colab_type": "code",
        "colab": {}
      },
      "source": [
        "import spacy\n",
        "\n",
        "str = \"Pythons live near the equator, in Asia and Africa, where it is hot and wet and their huge bodies can stay warm.  They make their homes in caves or in trees and have become used to living in cities and towns since people have been moving in on their territory.\"\n",
        "\n",
        "nlp = spacy.load('en_core_web_sm')\n",
        "doc = nlp(str)\n",
        "\n",
        "for x in doc:\n",
        "  print(x)\n",
        "\n",
        "doc[0]\n",
        "# => Pythons\n",
        "\n",
        "doc[0].pos\n",
        "# => 91"
      ],
      "execution_count": null,
      "outputs": []
    },
    {
      "cell_type": "code",
      "metadata": {
        "id": "k4byEpa8NOUX",
        "colab_type": "code",
        "colab": {
          "base_uri": "https://localhost:8080/",
          "height": 34
        },
        "outputId": "d86b3a8e-9c50-4fd0-d32f-51aab1f14ae1"
      },
      "source": [
        "import spacy\n",
        "\n",
        "str = \"Pythons live near the equator, in Asia and Africa, where it is hot and wet and their huge bodies can stay warm.  They make their homes in caves or in trees and have become used to living in cities and towns since people have been moving in on their territory.\"\n",
        "\n",
        "doc = nlp(str)\n",
        "\n",
        "entities = [(i, i.label_) for i in doc.ents]\n",
        "entities"
      ],
      "execution_count": 16,
      "outputs": [
        {
          "output_type": "execute_result",
          "data": {
            "text/plain": [
              "[(Asia, 'LOC'), (Africa, 'LOC')]"
            ]
          },
          "metadata": {
            "tags": []
          },
          "execution_count": 16
        }
      ]
    }
  ]
}