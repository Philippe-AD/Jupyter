{
  "nbformat": 4,
  "nbformat_minor": 0,
  "metadata": {
    "colab": {
      "name": "Aout 7",
      "provenance": [],
      "authorship_tag": "ABX9TyM4k/MxkeLm4m6rKMmfkxuq",
      "include_colab_link": true
    },
    "kernelspec": {
      "name": "python3",
      "display_name": "Python 3"
    }
  },
  "cells": [
    {
      "cell_type": "markdown",
      "metadata": {
        "id": "view-in-github",
        "colab_type": "text"
      },
      "source": [
        "<a href=\"https://colab.research.google.com/github/Philippe-AD/Jupyter/blob/master/Aout_7.ipynb\" target=\"_parent\"><img src=\"https://colab.research.google.com/assets/colab-badge.svg\" alt=\"Open In Colab\"/></a>"
      ]
    },
    {
      "cell_type": "code",
      "metadata": {
        "id": "0VFg4MaJ3F4O",
        "colab_type": "code",
        "colab": {
          "base_uri": "https://localhost:8080/",
          "height": 34
        },
        "outputId": "249b18a2-2dbb-42cd-e801-bf709121592f"
      },
      "source": [
        "import pandas as pd\n",
        "data = pd.read_html(\"https://en.wikipedia.org/wiki/Super_Bowl_LIV\")\n",
        "print(len(data))"
      ],
      "execution_count": null,
      "outputs": [
        {
          "output_type": "stream",
          "text": [
            "25\n"
          ],
          "name": "stdout"
        }
      ]
    },
    {
      "cell_type": "code",
      "metadata": {
        "id": "dM-Xmdig4Xkd",
        "colab_type": "code",
        "colab": {
          "base_uri": "https://localhost:8080/",
          "height": 286
        },
        "outputId": "3374deb6-b20a-473c-c815-d494f93648fe"
      },
      "source": [
        "df = data[4]\n",
        "print(df)"
      ],
      "execution_count": null,
      "outputs": [
        {
          "output_type": "stream",
          "text": [
            "                                      Scoring summary  ... Unnamed: 8\n",
            "0   Quarter Time Drive Team Scoring information Sc...  ...        NaN\n",
            "1                                             Quarter  ...      Score\n",
            "2                                             Quarter  ...         KC\n",
            "3                                                   1  ...          0\n",
            "4                                                   1  ...          7\n",
            "5                                                   2  ...         10\n",
            "6                                                   2  ...         10\n",
            "7                                                   3  ...         10\n",
            "8                                                   3  ...         10\n",
            "9                                                   4  ...         17\n",
            "10                                                  4  ...         24\n",
            "11                                                  4  ...         31\n",
            "12  \"TOP\" = time of possession. For other American...  ...         31\n",
            "\n",
            "[13 rows x 9 columns]\n"
          ],
          "name": "stdout"
        }
      ]
    },
    {
      "cell_type": "markdown",
      "metadata": {
        "id": "Kaf_3LCO5i3S",
        "colab_type": "text"
      },
      "source": [
        "# Commençons!\n",
        "La bibliothèque Pandas en Python comprend un racleur Web qui extrait les données de table HTML dans une trame de données en une seule étape. Insérez simplement l'URL dans le **read_html()** et affectez l'objet résultant à une variable afin que vous puissiez l'utiliser.\n",
        "\n",
        "https://medium.com/swlh/how-to-scrape-a-website-with-a-single-line-of-python-code-5efe124275bb"
      ]
    },
    {
      "cell_type": "code",
      "metadata": {
        "id": "0JF-v5MW4uCI",
        "colab_type": "code",
        "colab": {}
      },
      "source": [
        "url = \"http://www.thisisawebsite.com\"\n",
        "data = pd.read_html(url)\n"
      ],
      "execution_count": null,
      "outputs": []
    },
    {
      "cell_type": "markdown",
      "metadata": {
        "id": "V-bguy0e6zQF",
        "colab_type": "text"
      },
      "source": [
        "Word embeddings in 2020. Review with code examples\n",
        "Brief overview of current word embedding methods: from Word2vec to Transformers\n",
        "Rostyslav Neskorozhenyi\n",
        "Rostyslav Neskorozhenyi\n",
        "Follow\n",
        "Jul 24 · 13 min read"
      ]
    },
    {
      "cell_type": "code",
      "metadata": {
        "id": "Q4XOY-pF6hOe",
        "colab_type": "code",
        "colab": {
          "base_uri": "https://localhost:8080/",
          "height": 354
        },
        "outputId": "d796ff18-97a2-4701-9c56-a0fc20926d78"
      },
      "source": [
        "from sklearn.feature_extraction.text import CountVectorizer\n",
        "# create CountVectorizer object\n",
        "vectorizer = CountVectorizer()\n",
        "corpus = [\n",
        "          'Text of the very first new sentence with the first words in sentence.',\n",
        "          'Text of the second sentence.',\n",
        "          'Number three with lot of words words words.',\n",
        "          'Short text, less words.',\n",
        "]\n",
        "# learn the vocabulary and store CountVectorizer sparse matrix in term_frequencies\n",
        "term_frequencies = vectorizer.fit_transform(corpus) \n",
        "vocab = vectorizer.get_feature_names()\n",
        "# convert sparse matrix to numpy array\n",
        "term_frequencies = term_frequencies.toarray()\n",
        "# visualize term frequencies \n",
        "import seaborn as sns\n",
        "sns.heatmap(term_frequencies, annot=True, cbar = False, xticklabels = vocab);"
      ],
      "execution_count": null,
      "outputs": [
        {
          "output_type": "stream",
          "text": [
            "/usr/local/lib/python3.6/dist-packages/statsmodels/tools/_testing.py:19: FutureWarning: pandas.util.testing is deprecated. Use the functions in the public API at pandas.testing instead.\n",
            "  import pandas.util.testing as tm\n"
          ],
          "name": "stderr"
        },
        {
          "output_type": "display_data",
          "data": {
            "image/png": "[encoded data removed]",
            "text/plain": [
              "<Figure size 432x288 with 1 Axes>"
            ]
          },
          "metadata": {
            "tags": [],
            "needs_background": "light"
          }
        }
      ]
    },
    {
      "cell_type": "code",
      "metadata": {
        "id": "ulaJW_F667q2",
        "colab_type": "code",
        "colab": {
          "base_uri": "https://localhost:8080/",
          "height": 282
        },
        "outputId": "667f143f-a690-43b6-b3c8-425b13f32bea"
      },
      "source": [
        "from sklearn.feature_extraction.text import TfidfVectorizer\n",
        "import seaborn as sns\n",
        "corpus = [\n",
        "          'Time flies like an arrow.',\n",
        "          'Fruit flies like a banana.'\n",
        "]\n",
        "vocab = ['an', 'arrow', 'banana', 'flies', 'fruit', 'like', 'time']\n",
        "tfidf_vectorizer = TfidfVectorizer()\n",
        "tfidf = tfidf_vectorizer.fit_transform(corpus).toarray()\n",
        "sns.heatmap(tfidf, annot=True, cbar = False, xticklabels = vocab)"
      ],
      "execution_count": null,
      "outputs": [
        {
          "output_type": "execute_result",
          "data": {
            "text/plain": [
              "<matplotlib.axes._subplots.AxesSubplot at 0x7f3be30e4e10>"
            ]
          },
          "metadata": {
            "tags": []
          },
          "execution_count": 11
        },
        {
          "output_type": "display_data",
          "data": {
            "image/png": "[encoded data removed]",
            "text/plain": [
              "<Figure size 432x288 with 1 Axes>"
            ]
          },
          "metadata": {
            "tags": [],
            "needs_background": "light"
          }
        }
      ]
    },
    {
      "cell_type": "markdown",
      "metadata": {
        "id": "CKkWRvf3_rEE",
        "colab_type": "text"
      },
      "source": [
        "# Getting into the Soul of Machines through NLP\n",
        "\n",
        "NLP at a Glance with NLTK Library\n",
        "\n",
        "Example -\n",
        "\n",
        "I am from France and I speak ________?\n",
        "\n",
        "Answer — French"
      ]
    },
    {
      "cell_type": "code",
      "metadata": {
        "id": "V7ZZE-mX9E2n",
        "colab_type": "code",
        "colab": {
          "base_uri": "https://localhost:8080/",
          "height": 84
        },
        "outputId": "c3c2b92f-09b9-44ae-87eb-192ea687f6be"
      },
      "source": [
        "import nltk\n",
        "from nltk import sent_tokenize\n",
        "nltk.download('punkt')\n",
        "\n",
        "text = \"I seem to have caught cold. I’m a little feverish.\"\n",
        "sentences = sent_tokenize(text)\n",
        "print(sentences)\n",
        "\n",
        "fren = sent_tokenize(\"Enchanté, comment allez-vous? Tres bien. Merci, et vous?\",\"french\")\n",
        "print(fren)"
      ],
      "execution_count": null,
      "outputs": [
        {
          "output_type": "stream",
          "text": [
            "[nltk_data] Downloading package punkt to /root/nltk_data...\n",
            "[nltk_data]   Unzipping tokenizers/punkt.zip.\n",
            "['I seem to have caught cold.', 'I’m a little feverish.']\n",
            "['Enchanté, comment allez-vous?', 'Tres bien.', 'Mersi, et vous?']\n"
          ],
          "name": "stdout"
        }
      ]
    },
    {
      "cell_type": "code",
      "metadata": {
        "id": "hRk3qyqZ9sOr",
        "colab_type": "code",
        "colab": {
          "base_uri": "https://localhost:8080/",
          "height": 50
        },
        "outputId": "491a630e-25c8-4580-a646-935d68bafab0"
      },
      "source": [
        "from nltk import word_tokenize\n",
        "\n",
        "tokens = word_tokenize(\"Hello Mr. Roy. How was your day? \")\n",
        "print(tokens)\n",
        "\n",
        "tokens = word_tokenize(\"Enchanté, comment allez-vous? Tres bien. Merci, et vous?\",\"french\")\n",
        "print(tokens)"
      ],
      "execution_count": null,
      "outputs": [
        {
          "output_type": "stream",
          "text": [
            "['Hello', 'Mr.', 'Roy', '.', 'How', 'was', 'your', 'day', '?']\n",
            "['Enchanté', ',', 'comment', 'allez-vous', '?', 'Tres', 'bien', '.', 'Merci', ',', 'et', 'vous', '?']\n"
          ],
          "name": "stdout"
        }
      ]
    },
    {
      "cell_type": "markdown",
      "metadata": {
        "id": "wlTNZe4O-UHr",
        "colab_type": "text"
      },
      "source": [
        "# Racine et lemmatisation\n",
        "C'est également l'une des parties importantes du traitement du langage naturel.\n",
        "Dans ces processus, nous normalisons les mots dans leurs formes racines.\n",
        "Par exemple, les mots «manger, manger, manger» peuvent être réduits à «manger»\n",
        "La Stemming utilise une approche heuristique qui coupe les extrémités des mots pour atteindre rapidement le but tandis que Lemmatizaton fait les choses correctement en prenant en compte le vocabulaire et l'analyse morphologique des mots."
      ]
    },
    {
      "cell_type": "code",
      "metadata": {
        "id": "3rqzPE1k-JgN",
        "colab_type": "code",
        "colab": {
          "base_uri": "https://localhost:8080/",
          "height": 67
        },
        "outputId": "a0588c49-ada8-404e-a75a-3b23366c8fda"
      },
      "source": [
        "from nltk.stem import PorterStemmer\n",
        "stem = PorterStemmer()\n",
        "print(stem.stem('swimming'))\n",
        "print(stem.stem('cats'))\n",
        "print(stem.stem('trouble'))"
      ],
      "execution_count": null,
      "outputs": [
        {
          "output_type": "stream",
          "text": [
            "swim\n",
            "cat\n",
            "troubl\n"
          ],
          "name": "stdout"
        }
      ]
    },
    {
      "cell_type": "markdown",
      "metadata": {
        "id": "ybj2Yobh-ztt",
        "colab_type": "text"
      },
      "source": [
        "# Lemmatisation\n",
        "La bibliothèque NLTK fournit un lemmatiseur wordnet qui examine la base de données wordnet et renvoie des mots réels qui existent réellement."
      ]
    },
    {
      "cell_type": "code",
      "metadata": {
        "id": "aHL8GD6n-bE_",
        "colab_type": "code",
        "colab": {
          "base_uri": "https://localhost:8080/",
          "height": 101
        },
        "outputId": "bad48d86-45f7-4cc7-e4ee-4ddcd5fb4e44"
      },
      "source": [
        "import nltk\n",
        "nltk.download('wordnet')\n",
        "from nltk.stem import WordNetLemmatizer\n",
        "lemmatizer=WordNetLemmatizer()\n",
        "print(lemmatizer.lemmatize('believes'))\n",
        "print(lemmatizer.lemmatize('swimming'))\n",
        "print(lemmatizer.lemmatize('trouble'))"
      ],
      "execution_count": null,
      "outputs": [
        {
          "output_type": "stream",
          "text": [
            "[nltk_data] Downloading package wordnet to /root/nltk_data...\n",
            "[nltk_data]   Unzipping corpora/wordnet.zip.\n",
            "belief\n",
            "swimming\n",
            "trouble\n"
          ],
          "name": "stdout"
        }
      ]
    },
    {
      "cell_type": "code",
      "metadata": {
        "id": "Z6WHkBoe_R6B",
        "colab_type": "code",
        "colab": {
          "base_uri": "https://localhost:8080/",
          "height": 84
        },
        "outputId": "1cb59b37-f8db-4b4e-ff60-4b1b29973463"
      },
      "source": [
        "import nltk\n",
        "nltk.download('stopwords')\n",
        "from nltk.corpus import stopwords\n",
        "from nltk.tokenize import word_tokenize\n",
        "text = \"This is a sample sentence, showing off the stop words filtration.\"\n",
        "stop_words = set(stopwords.words('english'))\n",
        "word_tokens = word_tokenize(text)\n",
        "filtered_sentence = [w for w in word_tokens if not w in stop_words]\n",
        "filtered_sentence = []\n",
        "for w in word_tokens:\n",
        "    if w not in stop_words:\n",
        "        filtered_sentence.append(w)\n",
        "print(word_tokens)\n",
        "print(filtered_sentence)"
      ],
      "execution_count": null,
      "outputs": [
        {
          "output_type": "stream",
          "text": [
            "[nltk_data] Downloading package stopwords to /root/nltk_data...\n",
            "[nltk_data]   Unzipping corpora/stopwords.zip.\n",
            "['This', 'is', 'a', 'sample', 'sentence', ',', 'showing', 'off', 'the', 'stop', 'words', 'filtration', '.']\n",
            "['This', 'sample', 'sentence', ',', 'showing', 'stop', 'words', 'filtration', '.']\n"
          ],
          "name": "stdout"
        }
      ]
    },
    {
      "cell_type": "code",
      "metadata": {
        "id": "uVABcLt3OcFx",
        "colab_type": "code",
        "colab": {
          "base_uri": "https://localhost:8080/",
          "height": 252
        },
        "outputId": "b23e1777-32b9-42ce-bacf-03963dab60fd"
      },
      "source": [
        "from nltk.tokenize.punkt import PunktSentenceTokenizer, PunktParameters\n",
        "\n",
        "para = '''Either the well was very deep, or she fell very slowly, for she had plenty\n",
        "of time as she went down to look about her and to wonder what was going to happen\n",
        "next. First, she tried to look down and make out what she was coming to, but it was\n",
        "too dark to see anything; then she looked at the sides of the well, and noticed\n",
        "that they were filled with cupboards and book-shelves; here and there she saw maps\n",
        "and pictures hung upon pegs. She took down a jar from one of the shelves as she\n",
        "passed; it was labelled 'ORANGE MARMALADE', but to her great disappointment it was\n",
        "empty: she did not like to drop the jar for fear of killing somebody, so managed to\n",
        "put it into one of the cupboards as she fell past it.'''\n",
        "\n",
        "punkt_params = PunktParameters()\n",
        "punkt_params.abbrev_types = set(['Mr', 'Mrs', 'LLC'])\n",
        "tokenizer = PunktSentenceTokenizer(punkt_params)\n",
        "tokens = tokenizer.tokenize(para)\n",
        "\n",
        "for t in tokens:\n",
        "    print (t, \"\\n\")"
      ],
      "execution_count": null,
      "outputs": [
        {
          "output_type": "stream",
          "text": [
            "Either the well was very deep, or she fell very slowly, for she had plenty\n",
            "of time as she went down to look about her and to wonder what was going to happen\n",
            "next. \n",
            "\n",
            "First, she tried to look down and make out what she was coming to, but it was\n",
            "too dark to see anything; then she looked at the sides of the well, and noticed\n",
            "that they were filled with cupboards and book-shelves; here and there she saw maps\n",
            "and pictures hung upon pegs. \n",
            "\n",
            "She took down a jar from one of the shelves as she\n",
            "passed; it was labelled 'ORANGE MARMALADE', but to her great disappointment it was\n",
            "empty: she did not like to drop the jar for fear of killing somebody, so managed to\n",
            "put it into one of the cupboards as she fell past it. \n",
            "\n"
          ],
          "name": "stdout"
        }
      ]
    },
    {
      "cell_type": "markdown",
      "metadata": {
        "id": "S6RkyPCF_8NP",
        "colab_type": "text"
      },
      "source": [
        "# 3 Neglected Features in Python 3 \n",
        "\n",
        "That Everyone Should Be Using\n",
        "Enums, fstrings, and data classes"
      ]
    },
    {
      "cell_type": "code",
      "metadata": {
        "id": "8HnoXxm5AAsf",
        "colab_type": "code",
        "colab": {
          "base_uri": "https://localhost:8080/",
          "height": 50
        },
        "outputId": "f2da4ded-e127-41fb-c158-58057da92da6"
      },
      "source": [
        "from enum import Enum\n",
        "\n",
        "class State(Enum):\n",
        "  AIR = 0\n",
        "  LAND = 1\n",
        "  SEA = 2\n",
        "  \n",
        "myState = State.AIR\n",
        "\n",
        "# Prints 0\n",
        "print(myState.value)\n",
        "# Prints AIR\n",
        "print(myState.name)"
      ],
      "execution_count": null,
      "outputs": [
        {
          "output_type": "stream",
          "text": [
            "0\n",
            "AIR\n"
          ],
          "name": "stdout"
        }
      ]
    },
    {
      "cell_type": "code",
      "metadata": {
        "id": "dIiEn6B5AKpg",
        "colab_type": "code",
        "colab": {
          "base_uri": "https://localhost:8080/",
          "height": 50
        },
        "outputId": "edde5be4-417c-412d-976d-9a84034dc698"
      },
      "source": [
        "name = 'Brett'\n",
        "blog_title = 'Medium'\n",
        "\n",
        "# Hi, my name is Brett and I am writing on my Medium blog.\n",
        "a = \"Hi, my name is {} and I am writing on my {} blog.\".format(name, blog_title)\n",
        "print(a)\n",
        "\n",
        "# Hi, my name is Brett and I am writing on my Medium blog.\n",
        "a = f\"Hi, my name is {name} and I am writing on my {blog_title} blog.\"\n",
        "print(a)"
      ],
      "execution_count": null,
      "outputs": [
        {
          "output_type": "stream",
          "text": [
            "Hi, my name is Brett and I am writing on my Medium blog.\n",
            "Hi, my name is Brett and I am writing on my Medium blog.\n"
          ],
          "name": "stdout"
        }
      ]
    },
    {
      "cell_type": "markdown",
      "metadata": {
        "id": "nudq0-m6BVz2",
        "colab_type": "text"
      },
      "source": [
        "https://medium.com/better-programming/demystifying-python-datetime-module-with-examples-352e6cc72efc"
      ]
    },
    {
      "cell_type": "code",
      "metadata": {
        "id": "ohcEc-PhAilP",
        "colab_type": "code",
        "colab": {
          "base_uri": "https://localhost:8080/",
          "height": 34
        },
        "outputId": "293675c4-8742-4e50-a7fa-3484dda9f49f"
      },
      "source": [
        "import datetime\n",
        "dt_object = datetime.datetime.now()\n",
        "print(dt_object)"
      ],
      "execution_count": null,
      "outputs": [
        {
          "output_type": "stream",
          "text": [
            "2020-08-07 08:20:56.849271\n"
          ],
          "name": "stdout"
        }
      ]
    },
    {
      "cell_type": "code",
      "metadata": {
        "id": "J5tvfeJWAphZ",
        "colab_type": "code",
        "colab": {
          "base_uri": "https://localhost:8080/",
          "height": 34
        },
        "outputId": "9982bccb-bc6b-4361-f12c-0681f05f66d2"
      },
      "source": [
        "from datetime import date\n",
        "current_date = date.today()\n",
        "print(current_date)"
      ],
      "execution_count": null,
      "outputs": [
        {
          "output_type": "stream",
          "text": [
            "2020-08-07\n"
          ],
          "name": "stdout"
        }
      ]
    },
    {
      "cell_type": "code",
      "metadata": {
        "id": "3Yr9sssxAuIR",
        "colab_type": "code",
        "colab": {
          "base_uri": "https://localhost:8080/",
          "height": 50
        },
        "outputId": "2bbd5917-7cc9-409f-9c67-be5910316aad"
      },
      "source": [
        "import datetime\n",
        "local_date_time = datetime.datetime.now()\n",
        "local_time = local_date_time.time()\n",
        "print(local_time)\n",
        "\n",
        "dt_now = datetime.datetime.utcnow()\n",
        "print(dt_now)"
      ],
      "execution_count": null,
      "outputs": [
        {
          "output_type": "stream",
          "text": [
            "08:22:40.145895\n",
            "2020-08-07 08:22:40.146040\n"
          ],
          "name": "stdout"
        }
      ]
    },
    {
      "cell_type": "code",
      "metadata": {
        "id": "PeS05QPkBFx_",
        "colab_type": "code",
        "colab": {
          "base_uri": "https://localhost:8080/",
          "height": 34
        },
        "outputId": "cbabfa77-1b25-483c-9cf0-0a17f501a26a"
      },
      "source": [
        "import pytz\n",
        "import datetime\n",
        "tz_berlin = pytz.timezone(\"Europe/Berlin\")\n",
        "dt_berlin =datetime.datetime.now(tz_berlin)\n",
        "print(dt_berlin)"
      ],
      "execution_count": null,
      "outputs": [
        {
          "output_type": "stream",
          "text": [
            "2020-08-07 10:23:21.019992+02:00\n"
          ],
          "name": "stdout"
        }
      ]
    },
    {
      "cell_type": "code",
      "metadata": {
        "id": "34fQYdysbAId",
        "colab_type": "code",
        "colab": {
          "base_uri": "https://localhost:8080/",
          "height": 34
        },
        "outputId": "a121a8b7-dc37-4ff2-906c-861b89913366"
      },
      "source": [
        "import re\n",
        "message = 'Call me 415-555-1011 tomorrow, or at 415-555-9999 for my office line.'\n",
        "phoneNumRegex = re.compile(r'\\d\\d\\d-\\d\\d\\d-\\d\\d\\d\\d')\n",
        "mo =  phoneNumRegex.findall(message) # returns match object\n",
        "print(mo) # match objects have a group method which tells you the actual found text\n",
        "\n",
        "# returns: ['415-555-1011', '415-555-9999']"
      ],
      "execution_count": null,
      "outputs": [
        {
          "output_type": "stream",
          "text": [
            "['415-555-1011', '415-555-9999']\n"
          ],
          "name": "stdout"
        }
      ]
    }
  ]
}