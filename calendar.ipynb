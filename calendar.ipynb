{
  "nbformat": 4,
  "nbformat_minor": 0,
  "metadata": {
    "colab": {
      "name": "calendar.ipynb",
      "provenance": [],
      "authorship_tag": "ABX9TyPmRFKA95cUqOHN5EkIv0g6",
      "include_colab_link": true
    },
    "kernelspec": {
      "name": "python3",
      "display_name": "Python 3"
    }
  },
  "cells": [
    {
      "cell_type": "markdown",
      "metadata": {
        "id": "view-in-github",
        "colab_type": "text"
      },
      "source": [
        "<a href=\"https://colab.research.google.com/github/Philippe-AD/Jupyter/blob/master/calendar.ipynb\" target=\"_parent\"><img src=\"https://colab.research.google.com/assets/colab-badge.svg\" alt=\"Open In Colab\"/></a>"
      ]
    },
    {
      "cell_type": "code",
      "metadata": {
        "id": "DcxLL4zt1cJY",
        "colab_type": "code",
        "colab": {
          "base_uri": "https://localhost:8080/",
          "height": 134
        },
        "outputId": "cf552146-21b3-4d61-b494-df076ee488e2"
      },
      "source": [
        "import calendar\n",
        "\n",
        "c = calendar.TextCalendar(calendar.MONDAY)\n",
        "c.prmonth(2020, 9)"
      ],
      "execution_count": 9,
      "outputs": [
        {
          "output_type": "stream",
          "text": [
            "   September 2020\n",
            "Mo Tu We Th Fr Sa Su\n",
            "    1  2  3  4  5  6\n",
            " 7  8  9 10 11 12 13\n",
            "14 15 16 17 18 19 20\n",
            "21 22 23 24 25 26 27\n",
            "28 29 30\n"
          ],
          "name": "stdout"
        }
      ]
    },
    {
      "cell_type": "code",
      "metadata": {
        "id": "-YUhL9Zp0Az_",
        "colab_type": "code",
        "colab": {
          "base_uri": "https://localhost:8080/",
          "height": 101
        },
        "outputId": "9e044832-affb-4837-e019-080fa0d2c039"
      },
      "source": [
        "import calendar\n",
        "import pprint\n",
        "\n",
        "pprint.pprint(calendar.monthcalendar(2020, 9))"
      ],
      "execution_count": 14,
      "outputs": [
        {
          "output_type": "stream",
          "text": [
            "[[0, 1, 2, 3, 4, 5, 6],\n",
            " [7, 8, 9, 10, 11, 12, 13],\n",
            " [14, 15, 16, 17, 18, 19, 20],\n",
            " [21, 22, 23, 24, 25, 26, 27],\n",
            " [28, 29, 30, 0, 0, 0, 0]]\n"
          ],
          "name": "stdout"
        }
      ]
    },
    {
      "cell_type": "code",
      "metadata": {
        "id": "CntGgk5i0YgH",
        "colab_type": "code",
        "colab": {
          "base_uri": "https://localhost:8080/",
          "height": 218
        },
        "outputId": "46c8325a-f81c-48c1-c723-469a63dbb139"
      },
      "source": [
        "import calendar\n",
        "\n",
        "# Show every month\n",
        "for month in range(1, 13):\n",
        "\n",
        "    # Compute the dates for each week that overlaps the month\n",
        "    c = calendar.monthcalendar(2020, month)\n",
        "    first_week = c[0]\n",
        "    second_week = c[1]\n",
        "    third_week = c[2]\n",
        "\n",
        "    # If there is a Thursday in the first week, the second Thursday (jeudi)\n",
        "    # is in the second week.  Otherwise the second Thursday must \n",
        "    # be in the third week.\n",
        "    if first_week[calendar.THURSDAY]:\n",
        "        meeting_date = second_week[calendar.THURSDAY]\n",
        "    else:\n",
        "        meeting_date = third_week[calendar.THURSDAY]\n",
        "\n",
        "    print('%3s: %2s' % (month, meeting_date))"
      ],
      "execution_count": 5,
      "outputs": [
        {
          "output_type": "stream",
          "text": [
            "  1:  9\n",
            "  2: 13\n",
            "  3: 12\n",
            "  4:  9\n",
            "  5: 14\n",
            "  6: 11\n",
            "  7:  9\n",
            "  8: 13\n",
            "  9: 10\n",
            " 10:  8\n",
            " 11: 12\n",
            " 12: 10\n"
          ],
          "name": "stdout"
        }
      ]
    },
    {
      "cell_type": "code",
      "metadata": {
        "id": "og-Nr4n90_ia",
        "colab_type": "code",
        "colab": {
          "base_uri": "https://localhost:8080/",
          "height": 1000
        },
        "outputId": "a6433554-c135-42a7-ff39-0f522be2e693"
      },
      "source": [
        "import calendar\n",
        "import pprint\n",
        "\n",
        "# Calling yeardays2calendar(2007, 2) returns data for 2007, organized with 2 months per row.\n",
        "\n",
        "pprint.pprint(calendar.Calendar(calendar.MONDAY).yeardays2calendar(2020, 1))"
      ],
      "execution_count": 13,
      "outputs": [
        {
          "output_type": "stream",
          "text": [
            "[[[[(0, 0), (0, 1), (1, 2), (2, 3), (3, 4), (4, 5), (5, 6)],\n",
            "   [(6, 0), (7, 1), (8, 2), (9, 3), (10, 4), (11, 5), (12, 6)],\n",
            "   [(13, 0), (14, 1), (15, 2), (16, 3), (17, 4), (18, 5), (19, 6)],\n",
            "   [(20, 0), (21, 1), (22, 2), (23, 3), (24, 4), (25, 5), (26, 6)],\n",
            "   [(27, 0), (28, 1), (29, 2), (30, 3), (31, 4), (0, 5), (0, 6)]]],\n",
            " [[[(0, 0), (0, 1), (0, 2), (0, 3), (0, 4), (1, 5), (2, 6)],\n",
            "   [(3, 0), (4, 1), (5, 2), (6, 3), (7, 4), (8, 5), (9, 6)],\n",
            "   [(10, 0), (11, 1), (12, 2), (13, 3), (14, 4), (15, 5), (16, 6)],\n",
            "   [(17, 0), (18, 1), (19, 2), (20, 3), (21, 4), (22, 5), (23, 6)],\n",
            "   [(24, 0), (25, 1), (26, 2), (27, 3), (28, 4), (29, 5), (0, 6)]]],\n",
            " [[[(0, 0), (0, 1), (0, 2), (0, 3), (0, 4), (0, 5), (1, 6)],\n",
            "   [(2, 0), (3, 1), (4, 2), (5, 3), (6, 4), (7, 5), (8, 6)],\n",
            "   [(9, 0), (10, 1), (11, 2), (12, 3), (13, 4), (14, 5), (15, 6)],\n",
            "   [(16, 0), (17, 1), (18, 2), (19, 3), (20, 4), (21, 5), (22, 6)],\n",
            "   [(23, 0), (24, 1), (25, 2), (26, 3), (27, 4), (28, 5), (29, 6)],\n",
            "   [(30, 0), (31, 1), (0, 2), (0, 3), (0, 4), (0, 5), (0, 6)]]],\n",
            " [[[(0, 0), (0, 1), (1, 2), (2, 3), (3, 4), (4, 5), (5, 6)],\n",
            "   [(6, 0), (7, 1), (8, 2), (9, 3), (10, 4), (11, 5), (12, 6)],\n",
            "   [(13, 0), (14, 1), (15, 2), (16, 3), (17, 4), (18, 5), (19, 6)],\n",
            "   [(20, 0), (21, 1), (22, 2), (23, 3), (24, 4), (25, 5), (26, 6)],\n",
            "   [(27, 0), (28, 1), (29, 2), (30, 3), (0, 4), (0, 5), (0, 6)]]],\n",
            " [[[(0, 0), (0, 1), (0, 2), (0, 3), (1, 4), (2, 5), (3, 6)],\n",
            "   [(4, 0), (5, 1), (6, 2), (7, 3), (8, 4), (9, 5), (10, 6)],\n",
            "   [(11, 0), (12, 1), (13, 2), (14, 3), (15, 4), (16, 5), (17, 6)],\n",
            "   [(18, 0), (19, 1), (20, 2), (21, 3), (22, 4), (23, 5), (24, 6)],\n",
            "   [(25, 0), (26, 1), (27, 2), (28, 3), (29, 4), (30, 5), (31, 6)]]],\n",
            " [[[(1, 0), (2, 1), (3, 2), (4, 3), (5, 4), (6, 5), (7, 6)],\n",
            "   [(8, 0), (9, 1), (10, 2), (11, 3), (12, 4), (13, 5), (14, 6)],\n",
            "   [(15, 0), (16, 1), (17, 2), (18, 3), (19, 4), (20, 5), (21, 6)],\n",
            "   [(22, 0), (23, 1), (24, 2), (25, 3), (26, 4), (27, 5), (28, 6)],\n",
            "   [(29, 0), (30, 1), (0, 2), (0, 3), (0, 4), (0, 5), (0, 6)]]],\n",
            " [[[(0, 0), (0, 1), (1, 2), (2, 3), (3, 4), (4, 5), (5, 6)],\n",
            "   [(6, 0), (7, 1), (8, 2), (9, 3), (10, 4), (11, 5), (12, 6)],\n",
            "   [(13, 0), (14, 1), (15, 2), (16, 3), (17, 4), (18, 5), (19, 6)],\n",
            "   [(20, 0), (21, 1), (22, 2), (23, 3), (24, 4), (25, 5), (26, 6)],\n",
            "   [(27, 0), (28, 1), (29, 2), (30, 3), (31, 4), (0, 5), (0, 6)]]],\n",
            " [[[(0, 0), (0, 1), (0, 2), (0, 3), (0, 4), (1, 5), (2, 6)],\n",
            "   [(3, 0), (4, 1), (5, 2), (6, 3), (7, 4), (8, 5), (9, 6)],\n",
            "   [(10, 0), (11, 1), (12, 2), (13, 3), (14, 4), (15, 5), (16, 6)],\n",
            "   [(17, 0), (18, 1), (19, 2), (20, 3), (21, 4), (22, 5), (23, 6)],\n",
            "   [(24, 0), (25, 1), (26, 2), (27, 3), (28, 4), (29, 5), (30, 6)],\n",
            "   [(31, 0), (0, 1), (0, 2), (0, 3), (0, 4), (0, 5), (0, 6)]]],\n",
            " [[[(0, 0), (1, 1), (2, 2), (3, 3), (4, 4), (5, 5), (6, 6)],\n",
            "   [(7, 0), (8, 1), (9, 2), (10, 3), (11, 4), (12, 5), (13, 6)],\n",
            "   [(14, 0), (15, 1), (16, 2), (17, 3), (18, 4), (19, 5), (20, 6)],\n",
            "   [(21, 0), (22, 1), (23, 2), (24, 3), (25, 4), (26, 5), (27, 6)],\n",
            "   [(28, 0), (29, 1), (30, 2), (0, 3), (0, 4), (0, 5), (0, 6)]]],\n",
            " [[[(0, 0), (0, 1), (0, 2), (1, 3), (2, 4), (3, 5), (4, 6)],\n",
            "   [(5, 0), (6, 1), (7, 2), (8, 3), (9, 4), (10, 5), (11, 6)],\n",
            "   [(12, 0), (13, 1), (14, 2), (15, 3), (16, 4), (17, 5), (18, 6)],\n",
            "   [(19, 0), (20, 1), (21, 2), (22, 3), (23, 4), (24, 5), (25, 6)],\n",
            "   [(26, 0), (27, 1), (28, 2), (29, 3), (30, 4), (31, 5), (0, 6)]]],\n",
            " [[[(0, 0), (0, 1), (0, 2), (0, 3), (0, 4), (0, 5), (1, 6)],\n",
            "   [(2, 0), (3, 1), (4, 2), (5, 3), (6, 4), (7, 5), (8, 6)],\n",
            "   [(9, 0), (10, 1), (11, 2), (12, 3), (13, 4), (14, 5), (15, 6)],\n",
            "   [(16, 0), (17, 1), (18, 2), (19, 3), (20, 4), (21, 5), (22, 6)],\n",
            "   [(23, 0), (24, 1), (25, 2), (26, 3), (27, 4), (28, 5), (29, 6)],\n",
            "   [(30, 0), (0, 1), (0, 2), (0, 3), (0, 4), (0, 5), (0, 6)]]],\n",
            " [[[(0, 0), (1, 1), (2, 2), (3, 3), (4, 4), (5, 5), (6, 6)],\n",
            "   [(7, 0), (8, 1), (9, 2), (10, 3), (11, 4), (12, 5), (13, 6)],\n",
            "   [(14, 0), (15, 1), (16, 2), (17, 3), (18, 4), (19, 5), (20, 6)],\n",
            "   [(21, 0), (22, 1), (23, 2), (24, 3), (25, 4), (26, 5), (27, 6)],\n",
            "   [(28, 0), (29, 1), (30, 2), (31, 3), (0, 4), (0, 5), (0, 6)]]]]\n"
          ],
          "name": "stdout"
        }
      ]
    },
    {
      "cell_type": "code",
      "metadata": {
        "id": "LdCJWU_e1-Oi",
        "colab_type": "code",
        "colab": {
          "base_uri": "https://localhost:8080/",
          "height": 134
        },
        "outputId": "6fb34b4c-4a45-44da-9740-3b2c450cb54d"
      },
      "source": [
        "# Python code to print Calendar \n",
        "# Without use of Calendar module \n",
        "\n",
        "mm = 9\n",
        "yy = 2020\n",
        "\n",
        "month ={1:'January', 2:'February', 3:'March', \n",
        "\t\t4:'April', 5:'May', 6:'June', 7:'July', \n",
        "\t\t8:'August', 9:'September', 10:'October', \n",
        "\t\t11:'November', 12:'December'} \n",
        "\n",
        "# code below for calculation of odd days \n",
        "day =(yy-1)% 400\n",
        "day = (day//100)*5 + ((day % 100) - (day % 100)//4) + ((day % 100)//4)*2\n",
        "day = day % 7\n",
        "\n",
        "nly =[31, 28, 31, 30, 31, 30, \n",
        "\t31, 31, 30, 31, 30, 31] \n",
        "ly =[31, 29, 31, 30, 31, 30, \n",
        "\t31, 31, 30, 31, 30, 31] \n",
        "s = 0\n",
        "\n",
        "if yy % 4 == 0: \n",
        "\tfor i in range(mm-1): \n",
        "\t\ts+= ly[i] \n",
        "else: \n",
        "\tfor i in range(mm-1): \n",
        "\t\ts+= nly[i] \n",
        "\n",
        "day += s % 7\n",
        "day = day % 7\n",
        "\n",
        "# variable used for white space filling \n",
        "# where date not present \n",
        "space ='' \n",
        "space = space.rjust(2, ' ') \n",
        "\n",
        "# code below is to print the calendar \n",
        "print(month[mm], yy) \n",
        "print('Su', 'Mo', 'Tu', 'We', 'Th', 'Fr', 'Sa') \n",
        "\n",
        "if mm == 9 or mm == 4 or mm == 6 or mm == 11: \n",
        "\tfor i in range(31 + day): \n",
        "\t\t\n",
        "\t\tif i<= day: \n",
        "\t\t\tprint(space, end =' ') \n",
        "\t\telse: \n",
        "\t\t\tprint(\"{:02d}\".format(i-day), end =' ') \n",
        "\t\t\tif (i + 1)% 7 == 0: \n",
        "\t\t\t\tprint() \n",
        "elif mm == 2: \n",
        "\tif yy % 4 == 0: \n",
        "\t\tp = 30\n",
        "\telse: \n",
        "\t\tp = 29\n",
        "\t\t\n",
        "\tfor i in range(p + day): \n",
        "\t\tif i<= day: \n",
        "\t\t\tprint(space, end =' ') \n",
        "\t\telse: \n",
        "\t\t\tprint(\"{:02d}\".format(i-day), end =' ') \n",
        "\t\t\tif (i + 1)% 7 == 0: \n",
        "\t\t\t\tprint() \n",
        "else: \n",
        "\tfor i in range(32 + day): \n",
        "\t\t\n",
        "\t\tif i<= day: \n",
        "\t\t\tprint(space, end =' ') \n",
        "\t\telse: \n",
        "\t\t\tprint(\"{:02d}\".format(i-day), end =' ') \n",
        "\t\t\tif (i + 1)% 7 == 0: \n",
        "\t\t\t\tprint() \n"
      ],
      "execution_count": 10,
      "outputs": [
        {
          "output_type": "stream",
          "text": [
            "September 2020\n",
            "Su Mo Tu We Th Fr Sa\n",
            "      01 02 03 04 05 \n",
            "06 07 08 09 10 11 12 \n",
            "13 14 15 16 17 18 19 \n",
            "20 21 22 23 24 25 26 \n",
            "27 28 29 30 "
          ],
          "name": "stdout"
        }
      ]
    },
    {
      "cell_type": "code",
      "metadata": {
        "id": "do4YHk5j2hvv",
        "colab_type": "code",
        "colab": {
          "base_uri": "https://localhost:8080/",
          "height": 1000
        },
        "outputId": "a79cea8c-17a5-440c-eec2-312e5380249f"
      },
      "source": [
        "# Python program to print calendar for given year \n",
        "\n",
        "# importing calendar library \n",
        "import calendar \n",
        "\n",
        "def printcalendar(year): \t\n",
        "\t# printing calendar \n",
        "\tprint(calendar.calendar(year)) \n",
        "\n",
        "# driver program to test above function \n",
        "year = 2020\n",
        "printcalendar(year) \n",
        "year = 2021\n",
        "printcalendar(year) \n"
      ],
      "execution_count": 15,
      "outputs": [
        {
          "output_type": "stream",
          "text": [
            "                                  2020\n",
            "\n",
            "      January                   February                   March\n",
            "Mo Tu We Th Fr Sa Su      Mo Tu We Th Fr Sa Su      Mo Tu We Th Fr Sa Su\n",
            "       1  2  3  4  5                      1  2                         1\n",
            " 6  7  8  9 10 11 12       3  4  5  6  7  8  9       2  3  4  5  6  7  8\n",
            "13 14 15 16 17 18 19      10 11 12 13 14 15 16       9 10 11 12 13 14 15\n",
            "20 21 22 23 24 25 26      17 18 19 20 21 22 23      16 17 18 19 20 21 22\n",
            "27 28 29 30 31            24 25 26 27 28 29         23 24 25 26 27 28 29\n",
            "                                                    30 31\n",
            "\n",
            "       April                      May                       June\n",
            "Mo Tu We Th Fr Sa Su      Mo Tu We Th Fr Sa Su      Mo Tu We Th Fr Sa Su\n",
            "       1  2  3  4  5                   1  2  3       1  2  3  4  5  6  7\n",
            " 6  7  8  9 10 11 12       4  5  6  7  8  9 10       8  9 10 11 12 13 14\n",
            "13 14 15 16 17 18 19      11 12 13 14 15 16 17      15 16 17 18 19 20 21\n",
            "20 21 22 23 24 25 26      18 19 20 21 22 23 24      22 23 24 25 26 27 28\n",
            "27 28 29 30               25 26 27 28 29 30 31      29 30\n",
            "\n",
            "        July                     August                  September\n",
            "Mo Tu We Th Fr Sa Su      Mo Tu We Th Fr Sa Su      Mo Tu We Th Fr Sa Su\n",
            "       1  2  3  4  5                      1  2          1  2  3  4  5  6\n",
            " 6  7  8  9 10 11 12       3  4  5  6  7  8  9       7  8  9 10 11 12 13\n",
            "13 14 15 16 17 18 19      10 11 12 13 14 15 16      14 15 16 17 18 19 20\n",
            "20 21 22 23 24 25 26      17 18 19 20 21 22 23      21 22 23 24 25 26 27\n",
            "27 28 29 30 31            24 25 26 27 28 29 30      28 29 30\n",
            "                          31\n",
            "\n",
            "      October                   November                  December\n",
            "Mo Tu We Th Fr Sa Su      Mo Tu We Th Fr Sa Su      Mo Tu We Th Fr Sa Su\n",
            "          1  2  3  4                         1          1  2  3  4  5  6\n",
            " 5  6  7  8  9 10 11       2  3  4  5  6  7  8       7  8  9 10 11 12 13\n",
            "12 13 14 15 16 17 18       9 10 11 12 13 14 15      14 15 16 17 18 19 20\n",
            "19 20 21 22 23 24 25      16 17 18 19 20 21 22      21 22 23 24 25 26 27\n",
            "26 27 28 29 30 31         23 24 25 26 27 28 29      28 29 30 31\n",
            "                          30\n",
            "\n",
            "                                  2021\n",
            "\n",
            "      January                   February                   March\n",
            "Mo Tu We Th Fr Sa Su      Mo Tu We Th Fr Sa Su      Mo Tu We Th Fr Sa Su\n",
            "             1  2  3       1  2  3  4  5  6  7       1  2  3  4  5  6  7\n",
            " 4  5  6  7  8  9 10       8  9 10 11 12 13 14       8  9 10 11 12 13 14\n",
            "11 12 13 14 15 16 17      15 16 17 18 19 20 21      15 16 17 18 19 20 21\n",
            "18 19 20 21 22 23 24      22 23 24 25 26 27 28      22 23 24 25 26 27 28\n",
            "25 26 27 28 29 30 31                                29 30 31\n",
            "\n",
            "       April                      May                       June\n",
            "Mo Tu We Th Fr Sa Su      Mo Tu We Th Fr Sa Su      Mo Tu We Th Fr Sa Su\n",
            "          1  2  3  4                      1  2          1  2  3  4  5  6\n",
            " 5  6  7  8  9 10 11       3  4  5  6  7  8  9       7  8  9 10 11 12 13\n",
            "12 13 14 15 16 17 18      10 11 12 13 14 15 16      14 15 16 17 18 19 20\n",
            "19 20 21 22 23 24 25      17 18 19 20 21 22 23      21 22 23 24 25 26 27\n",
            "26 27 28 29 30            24 25 26 27 28 29 30      28 29 30\n",
            "                          31\n",
            "\n",
            "        July                     August                  September\n",
            "Mo Tu We Th Fr Sa Su      Mo Tu We Th Fr Sa Su      Mo Tu We Th Fr Sa Su\n",
            "          1  2  3  4                         1             1  2  3  4  5\n",
            " 5  6  7  8  9 10 11       2  3  4  5  6  7  8       6  7  8  9 10 11 12\n",
            "12 13 14 15 16 17 18       9 10 11 12 13 14 15      13 14 15 16 17 18 19\n",
            "19 20 21 22 23 24 25      16 17 18 19 20 21 22      20 21 22 23 24 25 26\n",
            "26 27 28 29 30 31         23 24 25 26 27 28 29      27 28 29 30\n",
            "                          30 31\n",
            "\n",
            "      October                   November                  December\n",
            "Mo Tu We Th Fr Sa Su      Mo Tu We Th Fr Sa Su      Mo Tu We Th Fr Sa Su\n",
            "             1  2  3       1  2  3  4  5  6  7             1  2  3  4  5\n",
            " 4  5  6  7  8  9 10       8  9 10 11 12 13 14       6  7  8  9 10 11 12\n",
            "11 12 13 14 15 16 17      15 16 17 18 19 20 21      13 14 15 16 17 18 19\n",
            "18 19 20 21 22 23 24      22 23 24 25 26 27 28      20 21 22 23 24 25 26\n",
            "25 26 27 28 29 30 31      29 30                     27 28 29 30 31\n",
            "\n"
          ],
          "name": "stdout"
        }
      ]
    },
    {
      "cell_type": "code",
      "metadata": {
        "id": "-pxGk5sM4EvU",
        "colab_type": "code",
        "colab": {
          "base_uri": "https://localhost:8080/",
          "height": 605
        },
        "outputId": "1916ff91-5812-458d-f9b9-64ef1375cf22"
      },
      "source": [
        "# Python program to demonstrate working \n",
        "# of itermonthdays() method \n",
        "\n",
        "# importing calendar module \n",
        "import calendar \n",
        "\n",
        "year = 2020\n",
        "mnth = 9\n",
        "\n",
        "\n",
        "obj = calendar.Calendar() \n",
        "\n",
        "# iteratign with itermonthdays \n",
        "for day in obj.itermonthdays(year, mnth): \n",
        "\tprint(day) \n"
      ],
      "execution_count": 16,
      "outputs": [
        {
          "output_type": "stream",
          "text": [
            "0\n",
            "1\n",
            "2\n",
            "3\n",
            "4\n",
            "5\n",
            "6\n",
            "7\n",
            "8\n",
            "9\n",
            "10\n",
            "11\n",
            "12\n",
            "13\n",
            "14\n",
            "15\n",
            "16\n",
            "17\n",
            "18\n",
            "19\n",
            "20\n",
            "21\n",
            "22\n",
            "23\n",
            "24\n",
            "25\n",
            "26\n",
            "27\n",
            "28\n",
            "29\n",
            "30\n",
            "0\n",
            "0\n",
            "0\n",
            "0\n"
          ],
          "name": "stdout"
        }
      ]
    },
    {
      "cell_type": "code",
      "metadata": {
        "id": "znH-LIGy4fh0",
        "colab_type": "code",
        "colab": {
          "base_uri": "https://localhost:8080/",
          "height": 34
        },
        "outputId": "cef79b2b-7e86-46d1-917e-13dca1704a5a"
      },
      "source": [
        "# Python program to demonstrate working \n",
        "# of monthdayscalendar() method \n",
        "\n",
        "# importing calendar module \n",
        "import calendar \n",
        "\n",
        "obj = calendar.Calendar() \n",
        "\n",
        "year = 2020\n",
        "mnth = 9\n",
        "\n",
        "# priting with monthdayscalendar \n",
        "print(obj.monthdayscalendar(year, mnth)) \n"
      ],
      "execution_count": 17,
      "outputs": [
        {
          "output_type": "stream",
          "text": [
            "[[0, 1, 2, 3, 4, 5, 6], [7, 8, 9, 10, 11, 12, 13], [14, 15, 16, 17, 18, 19, 20], [21, 22, 23, 24, 25, 26, 27], [28, 29, 30, 0, 0, 0, 0]]\n"
          ],
          "name": "stdout"
        }
      ]
    },
    {
      "cell_type": "code",
      "metadata": {
        "id": "aUBwQDYw5Q9U",
        "colab_type": "code",
        "colab": {}
      },
      "source": [
        "# Python program to demonstrate working \n",
        "# of yeardayscalendar() method \n",
        "\n",
        "# importing calendar module \n",
        "import calendar \n",
        "import pprint\n",
        "\n",
        "obj = calendar.Calendar() \n",
        "\n",
        "year = 2020\n",
        "# default value of width is 3 \n",
        "\n",
        "# priting with yeardayscalendar \n",
        "pprint.pprint(obj.yeardayscalendar(year)) \n"
      ],
      "execution_count": null,
      "outputs": []
    },
    {
      "cell_type": "markdown",
      "metadata": {
        "id": "qYI42RjY6x7A",
        "colab_type": "text"
      },
      "source": [
        "setfirstweekday() définit le jour de la semaine (0 est lundi, 6 est dimanche) pour démarrer chaque semaine. Les valeurs LUNDI, MARDI, MERCREDI, JEUDI, VENDREDI, SAMEDI et DIMANCHE sont fournies pour des raisons de commodité."
      ]
    },
    {
      "cell_type": "code",
      "metadata": {
        "id": "0_A8lmxO6laH",
        "colab_type": "code",
        "colab": {
          "base_uri": "https://localhost:8080/",
          "height": 101
        },
        "outputId": "e47e030b-72fa-4dfa-bb1f-8abf0eefe8e1"
      },
      "source": [
        "# Python program to demonstrate working of \n",
        "# monthdays2calendar() method \n",
        "\n",
        "# importing calendar module \n",
        "import calendar \n",
        "\n",
        "obj = calendar.Calendar() \n",
        "\n",
        "# iteratign with monthdays2calendar \n",
        "for day in obj.monthdays2calendar(2020, 9): \n",
        "\tprint(day) \n"
      ],
      "execution_count": 20,
      "outputs": [
        {
          "output_type": "stream",
          "text": [
            "[(0, 0), (1, 1), (2, 2), (3, 3), (4, 4), (5, 5), (6, 6)]\n",
            "[(7, 0), (8, 1), (9, 2), (10, 3), (11, 4), (12, 5), (13, 6)]\n",
            "[(14, 0), (15, 1), (16, 2), (17, 3), (18, 4), (19, 5), (20, 6)]\n",
            "[(21, 0), (22, 1), (23, 2), (24, 3), (25, 4), (26, 5), (27, 6)]\n",
            "[(28, 0), (29, 1), (30, 2), (0, 3), (0, 4), (0, 5), (0, 6)]\n"
          ],
          "name": "stdout"
        }
      ]
    },
    {
      "cell_type": "code",
      "metadata": {
        "id": "znEvKIPY7Ie2",
        "colab_type": "code",
        "colab": {
          "base_uri": "https://localhost:8080/",
          "height": 185
        },
        "outputId": "1f401fa1-1ef6-4e91-efe5-2ac46f8d5841"
      },
      "source": [
        "# Python code to demonstrate the working of \n",
        "# setfirstweekday() with prmonth() method \n",
        "\n",
        "# importing calendar module for calendar operations \n",
        "import calendar \n",
        "\n",
        "# using prmonth() to print calendar of 1997 \n",
        "print (\"The 4th month of 1997 is : \") \n",
        "calendar.prmonth(2020, 9, 2, 1) \n",
        "\n",
        "\n",
        "# using setfirstweekday() to set first week day number \n",
        "calendar.setfirstweekday(1) \n",
        "\n",
        "print (\"\\r\") \n",
        "\n",
        "# using firstweekday() to check the changed day \n",
        "print (\"The new week day number is : \", end =\"\") \n",
        "print (calendar.firstweekday()) \n"
      ],
      "execution_count": 22,
      "outputs": [
        {
          "output_type": "stream",
          "text": [
            "The 4th month of 1997 is : \n",
            "   September 2020\n",
            "Fr Sa Su Mo Tu We Th\n",
            "             1  2  3\n",
            " 4  5  6  7  8  9 10\n",
            "11 12 13 14 15 16 17\n",
            "18 19 20 21 22 23 24\n",
            "25 26 27 28 29 30\n",
            "\r\n",
            "The new week day number is : 1\n"
          ],
          "name": "stdout"
        }
      ]
    },
    {
      "cell_type": "code",
      "metadata": {
        "id": "GMgUYaP4NWVv",
        "colab_type": "code",
        "colab": {}
      },
      "source": [
        "documents = {\n",
        "    1: \"a donut on a glass plate\",\n",
        "    2: \"only the donut\",\n",
        "    3: \"listen to the drum machine\",\n",
        "}\n",
        "\n",
        "index = {\n",
        "    \"a\": [1],\n",
        "    \"donut\": [1, 2],\n",
        "    \"on\": [1],\n",
        "    \"glass\": [1],\n",
        "    \"plate\": [1],\n",
        "    \"only\": [2],\n",
        "    \"the\": [2, 3],\n",
        "    \"listen\": [3],\n",
        "    \"to\": [3],\n",
        "    \"drum\": [3],\n",
        "    \"machine\": [3],\n",
        "}\n",
        "\n",
        "%timeit print(index)"
      ],
      "execution_count": null,
      "outputs": []
    },
    {
      "cell_type": "markdown",
      "metadata": {
        "id": "8RsF8rq0tYTF",
        "colab_type": "text"
      },
      "source": [
        "https://openclassrooms.com/fr/courses/235344-apprenez-a-programmer-en-python/234239-faites-de-la-programmation-systeme"
      ]
    },
    {
      "cell_type": "code",
      "metadata": {
        "id": "kgdLHfgSvsel",
        "colab_type": "code",
        "colab": {
          "base_uri": "https://localhost:8080/",
          "height": 118
        },
        "outputId": "19d030b1-ed94-4d68-9e06-68269601e644"
      },
      "source": [
        "!pip install num2words"
      ],
      "execution_count": 7,
      "outputs": [
        {
          "output_type": "stream",
          "text": [
            "Collecting num2words\n",
            "\u001b[?25l  Downloading https://files.pythonhosted.org/packages/eb/a2/ea800689730732e27711c41beed4b2a129b34974435bdc450377ec407738/num2words-0.5.10-py3-none-any.whl (101kB)\n",
            "\r\u001b[K     |███▎                            | 10kB 15.9MB/s eta 0:00:01\r\u001b[K     |██████▌                         | 20kB 6.4MB/s eta 0:00:01\r\u001b[K     |█████████▊                      | 30kB 5.5MB/s eta 0:00:01\r\u001b[K     |█████████████                   | 40kB 6.1MB/s eta 0:00:01\r\u001b[K     |████████████████▏               | 51kB 6.2MB/s eta 0:00:01\r\u001b[K     |███████████████████▍            | 61kB 6.9MB/s eta 0:00:01\r\u001b[K     |██████████████████████▋         | 71kB 7.7MB/s eta 0:00:01\r\u001b[K     |█████████████████████████▉      | 81kB 8.0MB/s eta 0:00:01\r\u001b[K     |█████████████████████████████   | 92kB 7.8MB/s eta 0:00:01\r\u001b[K     |████████████████████████████████| 102kB 5.0MB/s \n",
            "\u001b[?25hRequirement already satisfied: docopt>=0.6.2 in /usr/local/lib/python3.6/dist-packages (from num2words) (0.6.2)\n",
            "Installing collected packages: num2words\n",
            "Successfully installed num2words-0.5.10\n"
          ],
          "name": "stdout"
        }
      ]
    },
    {
      "cell_type": "markdown",
      "metadata": {
        "id": "AuNmA388winX",
        "colab_type": "text"
      },
      "source": [
        "Besides the numerical argument, there are two main optional arguments.\n",
        "\n",
        "**to**: The converter to use. Supported values are:\n",
        "\n",
        "* cardinal (default)\n",
        "* ordinal\n",
        "* ordinal_num\n",
        "* year\n",
        "* currency\n",
        "\n",
        "\n"
      ]
    },
    {
      "cell_type": "code",
      "metadata": {
        "id": "rQc0bsJ7vh-t",
        "colab_type": "code",
        "colab": {
          "base_uri": "https://localhost:8080/",
          "height": 101
        },
        "outputId": "706ff525-38fa-4b13-eb94-2435f0706d40"
      },
      "source": [
        "from num2words import num2words\n",
        "\n",
        "print(num2words(42))\n",
        "print(num2words(42, to='ordinal'))\n",
        "\n",
        "print(num2words(90, lang='fr'))\n",
        "print(num2words(90, lang='fr_CH'))\n",
        "print(num2words(90, lang='fr_CH', to='ordinal'))\n",
        "\n"
      ],
      "execution_count": 11,
      "outputs": [
        {
          "output_type": "stream",
          "text": [
            "forty-two\n",
            "forty-second\n",
            "quatre-vingt-dix\n",
            "nonante\n",
            "nonantième\n"
          ],
          "name": "stdout"
        }
      ]
    },
    {
      "cell_type": "code",
      "metadata": {
        "id": "xwelpFNIs3pm",
        "colab_type": "code",
        "colab": {
          "base_uri": "https://localhost:8080/",
          "height": 178
        },
        "outputId": "b8adb9dd-5800-4b6a-bc6c-e5820e7ac8d0"
      },
      "source": [
        "import signal\n",
        "import sys\n",
        "\n",
        "def fermer_programme(signal, frame):\n",
        "    \"\"\"Fonction appelée quand vient l'heure de fermer notre programme\"\"\"\n",
        "    print(\"C'est l'heure de la fermeture !\")\n",
        "    sys.exit(0)\n",
        "\n",
        "# Connexion du signal à notre fonction\n",
        "signal.signal(signal.SIGINT, fermer_programme)\n",
        "\n",
        "# Notre programme...\n",
        "print(\"Le programme va boucler...\")\n",
        "while True:\n",
        "    continue"
      ],
      "execution_count": 3,
      "outputs": [
        {
          "output_type": "stream",
          "text": [
            "Le programme va boucler...\n",
            "C'est l'heure de la fermeture !\n"
          ],
          "name": "stdout"
        },
        {
          "output_type": "error",
          "ename": "SystemExit",
          "evalue": "ignored",
          "traceback": [
            "An exception has occurred, use %tb to see the full traceback.\n",
            "\u001b[0;31mSystemExit\u001b[0m\u001b[0;31m:\u001b[0m 0\n"
          ]
        },
        {
          "output_type": "stream",
          "text": [
            "/usr/local/lib/python3.6/dist-packages/IPython/core/interactiveshell.py:2890: UserWarning: To exit: use 'exit', 'quit', or Ctrl-D.\n",
            "  warn(\"To exit: use 'exit', 'quit', or Ctrl-D.\", stacklevel=1)\n"
          ],
          "name": "stderr"
        }
      ]
    }
  ]
}