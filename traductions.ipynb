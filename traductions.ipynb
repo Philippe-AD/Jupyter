{
  "nbformat": 4,
  "nbformat_minor": 0,
  "metadata": {
    "colab": {
      "name": "traductions.ipynb",
      "provenance": [],
      "authorship_tag": "ABX9TyPmY8kBz7sc8Gd/GmHyoy2p",
      "include_colab_link": true
    },
    "kernelspec": {
      "name": "python3",
      "display_name": "Python 3"
    }
  },
  "cells": [
    {
      "cell_type": "markdown",
      "metadata": {
        "id": "view-in-github",
        "colab_type": "text"
      },
      "source": [
        "<a href=\"https://colab.research.google.com/github/Philippe-AD/Jupyter/blob/master/traductions.ipynb\" target=\"_parent\"><img src=\"https://colab.research.google.com/assets/colab-badge.svg\" alt=\"Open In Colab\"/></a>"
      ]
    },
    {
      "cell_type": "markdown",
      "metadata": {
        "id": "mbWbAA_uDnsd",
        "colab_type": "text"
      },
      "source": [
        "If you could change one thing about the NVIDIA Jetson Nano developer kit for use in your projects, what would that be?\n",
        "\n",
        "Si vous pouviez changer une chose concernant le kit de développement NVIDIA Jetson Nano pour une utilisation dans vos projets, quelle serait-elle?\n",
        "\n",
        "\n",
        "---\n",
        "\n"
      ]
    },
    {
      "cell_type": "code",
      "metadata": {
        "id": "zK4DA7kDDkMc",
        "colab_type": "code",
        "colab": {}
      },
      "source": [
        ""
      ],
      "execution_count": null,
      "outputs": []
    }
  ]
}